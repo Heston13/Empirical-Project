{
 "cells": [
  {
   "cell_type": "markdown",
   "metadata": {
    "slideshow": {
     "slide_type": "slide"
    },
    "user_expressions": []
   },
   "source": [
    "The Four Asian Tigers refers to Hong Kong, Singapore, Korea, and Taiwan, four east Asian economy miracles that went through a rapid process of industrialization and maintained a high GDP growth rate from 1970s to 1990s. They took advantage of the peaceful world after World War II and flourished in the global relocation of labor-intensive industries, attracting a large amount of foreign capital and technology, taking advantage of low-cost labor force, and adjusting their economic development strategies in a timely manner. Could other developing countries perform same miracles again? What are the fundamental secrets that lead to the Tiger’s unprecedented growth? This analysis discusses the core drivers of economic growth and crossly reviews the key metrics of the four Tigers."
   ]
  },
  {
   "cell_type": "markdown",
   "metadata": {
    "slideshow": {
     "slide_type": "slide"
    }
   },
   "source": [
    "Data Preparation\n",
    "The data is from the Penn World Database which covers numerous metrics of 183 countries. The data was downloaded from their website and pulled from the csv download into Jupyter labs. After this the data was cleaned and made usable to examine some of the key metrics that we believe are associated with a country’s development. The metrics includes Capital Stock per Capita, TFP(total factor productivity), Share of export, Human Capital, Capital services levels, Real consumption, Welfare-relevant TFP(Growth of welfare-relevant productivity over time in each country), Real internal rate of return, Price level of CCON(How consumption price levels differ across countries). The metrics we wanted to examine were compared with GDP per capita growth, which we believe to be the key metrics when determining a country's development. We did this with all four Asian tigers and each country individually to get a comprehensive picture of their development. These metrics allow us to answer why the Asian tigers have been able to become developed so quickly by comparing their development in each individual metric with the other countries. Through this comparison we will be able to not only figure out the different paths each country potentially takes to becoming developed, if there even are any differences, but also will allow us to examine which of the metrics are more important to the development of countries and show the correlations with GDP per capita."
   ]
  },
  {
   "cell_type": "code",
   "execution_count": 1,
   "metadata": {},
   "outputs": [
    {
     "ename": "FileNotFoundError",
     "evalue": "[Errno 2] No such file or directory: 'pennworlddata.csv'",
     "output_type": "error",
     "traceback": [
      "\u001b[1;31m---------------------------------------------------------------------------\u001b[0m",
      "\u001b[1;31mFileNotFoundError\u001b[0m                         Traceback (most recent call last)",
      "\u001b[1;32m~\\AppData\\Local\\Temp\\ipykernel_7340\\2824477151.py\u001b[0m in \u001b[0;36m<cell line: 12>\u001b[1;34m()\u001b[0m\n\u001b[0;32m     10\u001b[0m \u001b[1;33m\u001b[0m\u001b[0m\n\u001b[0;32m     11\u001b[0m \u001b[1;31m# select data from 1970 to 2000\u001b[0m\u001b[1;33m\u001b[0m\u001b[1;33m\u001b[0m\u001b[0m\n\u001b[1;32m---> 12\u001b[1;33m \u001b[0mdf\u001b[0m \u001b[1;33m=\u001b[0m \u001b[0mpd\u001b[0m\u001b[1;33m.\u001b[0m\u001b[0mread_csv\u001b[0m\u001b[1;33m(\u001b[0m\u001b[1;34m'pennworlddata.csv'\u001b[0m\u001b[1;33m)\u001b[0m\u001b[1;33m\u001b[0m\u001b[1;33m\u001b[0m\u001b[0m\n\u001b[0m\u001b[0;32m     13\u001b[0m \u001b[0mdf\u001b[0m \u001b[1;33m=\u001b[0m \u001b[0mdf\u001b[0m\u001b[1;33m.\u001b[0m\u001b[0mloc\u001b[0m\u001b[1;33m[\u001b[0m\u001b[0mdf\u001b[0m\u001b[1;33m[\u001b[0m\u001b[1;34m'countrycode'\u001b[0m\u001b[1;33m]\u001b[0m\u001b[1;33m.\u001b[0m\u001b[0misin\u001b[0m\u001b[1;33m(\u001b[0m\u001b[1;33m[\u001b[0m\u001b[1;34m'KOR'\u001b[0m\u001b[1;33m,\u001b[0m\u001b[1;34m'HKG'\u001b[0m\u001b[1;33m,\u001b[0m\u001b[1;34m'TWN'\u001b[0m\u001b[1;33m,\u001b[0m\u001b[1;34m'SGP'\u001b[0m\u001b[1;33m]\u001b[0m\u001b[1;33m)\u001b[0m\u001b[1;33m]\u001b[0m\u001b[1;33m\u001b[0m\u001b[1;33m\u001b[0m\u001b[0m\n\u001b[0;32m     14\u001b[0m \u001b[0mdf\u001b[0m\u001b[1;33m.\u001b[0m\u001b[0mdrop\u001b[0m\u001b[1;33m(\u001b[0m\u001b[0mcolumns\u001b[0m \u001b[1;33m=\u001b[0m \u001b[1;33m[\u001b[0m\u001b[1;34m'cor_exp'\u001b[0m\u001b[1;33m,\u001b[0m\u001b[1;34m'statcap'\u001b[0m\u001b[1;33m,\u001b[0m\u001b[1;34m'i_cig'\u001b[0m\u001b[1;33m,\u001b[0m\u001b[1;34m'i_xm'\u001b[0m\u001b[1;33m,\u001b[0m\u001b[1;34m'i_xr'\u001b[0m\u001b[1;33m,\u001b[0m\u001b[1;34m'i_outlier'\u001b[0m\u001b[1;33m,\u001b[0m\u001b[1;34m'i_irr'\u001b[0m\u001b[1;33m]\u001b[0m\u001b[1;33m)\u001b[0m\u001b[1;33m\u001b[0m\u001b[1;33m\u001b[0m\u001b[0m\n",
      "\u001b[1;32m~\\anaconda3\\envs\\EconGrowthUG-Builds\\lib\\site-packages\\pandas\\util\\_decorators.py\u001b[0m in \u001b[0;36mwrapper\u001b[1;34m(*args, **kwargs)\u001b[0m\n\u001b[0;32m    309\u001b[0m                     \u001b[0mstacklevel\u001b[0m\u001b[1;33m=\u001b[0m\u001b[0mstacklevel\u001b[0m\u001b[1;33m,\u001b[0m\u001b[1;33m\u001b[0m\u001b[1;33m\u001b[0m\u001b[0m\n\u001b[0;32m    310\u001b[0m                 )\n\u001b[1;32m--> 311\u001b[1;33m             \u001b[1;32mreturn\u001b[0m \u001b[0mfunc\u001b[0m\u001b[1;33m(\u001b[0m\u001b[1;33m*\u001b[0m\u001b[0margs\u001b[0m\u001b[1;33m,\u001b[0m \u001b[1;33m**\u001b[0m\u001b[0mkwargs\u001b[0m\u001b[1;33m)\u001b[0m\u001b[1;33m\u001b[0m\u001b[1;33m\u001b[0m\u001b[0m\n\u001b[0m\u001b[0;32m    312\u001b[0m \u001b[1;33m\u001b[0m\u001b[0m\n\u001b[0;32m    313\u001b[0m         \u001b[1;32mreturn\u001b[0m \u001b[0mwrapper\u001b[0m\u001b[1;33m\u001b[0m\u001b[1;33m\u001b[0m\u001b[0m\n",
      "\u001b[1;32m~\\anaconda3\\envs\\EconGrowthUG-Builds\\lib\\site-packages\\pandas\\io\\parsers\\readers.py\u001b[0m in \u001b[0;36mread_csv\u001b[1;34m(filepath_or_buffer, sep, delimiter, header, names, index_col, usecols, squeeze, prefix, mangle_dupe_cols, dtype, engine, converters, true_values, false_values, skipinitialspace, skiprows, skipfooter, nrows, na_values, keep_default_na, na_filter, verbose, skip_blank_lines, parse_dates, infer_datetime_format, keep_date_col, date_parser, dayfirst, cache_dates, iterator, chunksize, compression, thousands, decimal, lineterminator, quotechar, quoting, doublequote, escapechar, comment, encoding, encoding_errors, dialect, error_bad_lines, warn_bad_lines, on_bad_lines, delim_whitespace, low_memory, memory_map, float_precision, storage_options)\u001b[0m\n\u001b[0;32m    678\u001b[0m     \u001b[0mkwds\u001b[0m\u001b[1;33m.\u001b[0m\u001b[0mupdate\u001b[0m\u001b[1;33m(\u001b[0m\u001b[0mkwds_defaults\u001b[0m\u001b[1;33m)\u001b[0m\u001b[1;33m\u001b[0m\u001b[1;33m\u001b[0m\u001b[0m\n\u001b[0;32m    679\u001b[0m \u001b[1;33m\u001b[0m\u001b[0m\n\u001b[1;32m--> 680\u001b[1;33m     \u001b[1;32mreturn\u001b[0m \u001b[0m_read\u001b[0m\u001b[1;33m(\u001b[0m\u001b[0mfilepath_or_buffer\u001b[0m\u001b[1;33m,\u001b[0m \u001b[0mkwds\u001b[0m\u001b[1;33m)\u001b[0m\u001b[1;33m\u001b[0m\u001b[1;33m\u001b[0m\u001b[0m\n\u001b[0m\u001b[0;32m    681\u001b[0m \u001b[1;33m\u001b[0m\u001b[0m\n\u001b[0;32m    682\u001b[0m \u001b[1;33m\u001b[0m\u001b[0m\n",
      "\u001b[1;32m~\\anaconda3\\envs\\EconGrowthUG-Builds\\lib\\site-packages\\pandas\\io\\parsers\\readers.py\u001b[0m in \u001b[0;36m_read\u001b[1;34m(filepath_or_buffer, kwds)\u001b[0m\n\u001b[0;32m    573\u001b[0m \u001b[1;33m\u001b[0m\u001b[0m\n\u001b[0;32m    574\u001b[0m     \u001b[1;31m# Create the parser.\u001b[0m\u001b[1;33m\u001b[0m\u001b[1;33m\u001b[0m\u001b[0m\n\u001b[1;32m--> 575\u001b[1;33m     \u001b[0mparser\u001b[0m \u001b[1;33m=\u001b[0m \u001b[0mTextFileReader\u001b[0m\u001b[1;33m(\u001b[0m\u001b[0mfilepath_or_buffer\u001b[0m\u001b[1;33m,\u001b[0m \u001b[1;33m**\u001b[0m\u001b[0mkwds\u001b[0m\u001b[1;33m)\u001b[0m\u001b[1;33m\u001b[0m\u001b[1;33m\u001b[0m\u001b[0m\n\u001b[0m\u001b[0;32m    576\u001b[0m \u001b[1;33m\u001b[0m\u001b[0m\n\u001b[0;32m    577\u001b[0m     \u001b[1;32mif\u001b[0m \u001b[0mchunksize\u001b[0m \u001b[1;32mor\u001b[0m \u001b[0miterator\u001b[0m\u001b[1;33m:\u001b[0m\u001b[1;33m\u001b[0m\u001b[1;33m\u001b[0m\u001b[0m\n",
      "\u001b[1;32m~\\anaconda3\\envs\\EconGrowthUG-Builds\\lib\\site-packages\\pandas\\io\\parsers\\readers.py\u001b[0m in \u001b[0;36m__init__\u001b[1;34m(self, f, engine, **kwds)\u001b[0m\n\u001b[0;32m    932\u001b[0m \u001b[1;33m\u001b[0m\u001b[0m\n\u001b[0;32m    933\u001b[0m         \u001b[0mself\u001b[0m\u001b[1;33m.\u001b[0m\u001b[0mhandles\u001b[0m\u001b[1;33m:\u001b[0m \u001b[0mIOHandles\u001b[0m \u001b[1;33m|\u001b[0m \u001b[1;32mNone\u001b[0m \u001b[1;33m=\u001b[0m \u001b[1;32mNone\u001b[0m\u001b[1;33m\u001b[0m\u001b[1;33m\u001b[0m\u001b[0m\n\u001b[1;32m--> 934\u001b[1;33m         \u001b[0mself\u001b[0m\u001b[1;33m.\u001b[0m\u001b[0m_engine\u001b[0m \u001b[1;33m=\u001b[0m \u001b[0mself\u001b[0m\u001b[1;33m.\u001b[0m\u001b[0m_make_engine\u001b[0m\u001b[1;33m(\u001b[0m\u001b[0mf\u001b[0m\u001b[1;33m,\u001b[0m \u001b[0mself\u001b[0m\u001b[1;33m.\u001b[0m\u001b[0mengine\u001b[0m\u001b[1;33m)\u001b[0m\u001b[1;33m\u001b[0m\u001b[1;33m\u001b[0m\u001b[0m\n\u001b[0m\u001b[0;32m    935\u001b[0m \u001b[1;33m\u001b[0m\u001b[0m\n\u001b[0;32m    936\u001b[0m     \u001b[1;32mdef\u001b[0m \u001b[0mclose\u001b[0m\u001b[1;33m(\u001b[0m\u001b[0mself\u001b[0m\u001b[1;33m)\u001b[0m\u001b[1;33m:\u001b[0m\u001b[1;33m\u001b[0m\u001b[1;33m\u001b[0m\u001b[0m\n",
      "\u001b[1;32m~\\anaconda3\\envs\\EconGrowthUG-Builds\\lib\\site-packages\\pandas\\io\\parsers\\readers.py\u001b[0m in \u001b[0;36m_make_engine\u001b[1;34m(self, f, engine)\u001b[0m\n\u001b[0;32m   1216\u001b[0m             \u001b[1;31m# \"Union[str, PathLike[str], ReadCsvBuffer[bytes], ReadCsvBuffer[str]]\"\u001b[0m\u001b[1;33m\u001b[0m\u001b[1;33m\u001b[0m\u001b[0m\n\u001b[0;32m   1217\u001b[0m             \u001b[1;31m# , \"str\", \"bool\", \"Any\", \"Any\", \"Any\", \"Any\", \"Any\"\u001b[0m\u001b[1;33m\u001b[0m\u001b[1;33m\u001b[0m\u001b[0m\n\u001b[1;32m-> 1218\u001b[1;33m             self.handles = get_handle(  # type: ignore[call-overload]\n\u001b[0m\u001b[0;32m   1219\u001b[0m                 \u001b[0mf\u001b[0m\u001b[1;33m,\u001b[0m\u001b[1;33m\u001b[0m\u001b[1;33m\u001b[0m\u001b[0m\n\u001b[0;32m   1220\u001b[0m                 \u001b[0mmode\u001b[0m\u001b[1;33m,\u001b[0m\u001b[1;33m\u001b[0m\u001b[1;33m\u001b[0m\u001b[0m\n",
      "\u001b[1;32m~\\anaconda3\\envs\\EconGrowthUG-Builds\\lib\\site-packages\\pandas\\io\\common.py\u001b[0m in \u001b[0;36mget_handle\u001b[1;34m(path_or_buf, mode, encoding, compression, memory_map, is_text, errors, storage_options)\u001b[0m\n\u001b[0;32m    784\u001b[0m         \u001b[1;32mif\u001b[0m \u001b[0mioargs\u001b[0m\u001b[1;33m.\u001b[0m\u001b[0mencoding\u001b[0m \u001b[1;32mand\u001b[0m \u001b[1;34m\"b\"\u001b[0m \u001b[1;32mnot\u001b[0m \u001b[1;32min\u001b[0m \u001b[0mioargs\u001b[0m\u001b[1;33m.\u001b[0m\u001b[0mmode\u001b[0m\u001b[1;33m:\u001b[0m\u001b[1;33m\u001b[0m\u001b[1;33m\u001b[0m\u001b[0m\n\u001b[0;32m    785\u001b[0m             \u001b[1;31m# Encoding\u001b[0m\u001b[1;33m\u001b[0m\u001b[1;33m\u001b[0m\u001b[0m\n\u001b[1;32m--> 786\u001b[1;33m             handle = open(\n\u001b[0m\u001b[0;32m    787\u001b[0m                 \u001b[0mhandle\u001b[0m\u001b[1;33m,\u001b[0m\u001b[1;33m\u001b[0m\u001b[1;33m\u001b[0m\u001b[0m\n\u001b[0;32m    788\u001b[0m                 \u001b[0mioargs\u001b[0m\u001b[1;33m.\u001b[0m\u001b[0mmode\u001b[0m\u001b[1;33m,\u001b[0m\u001b[1;33m\u001b[0m\u001b[1;33m\u001b[0m\u001b[0m\n",
      "\u001b[1;31mFileNotFoundError\u001b[0m: [Errno 2] No such file or directory: 'pennworlddata.csv'"
     ]
    }
   ],
   "source": [
    "import pandas as pd\n",
    "import numpy as np\n",
    "import matplotlib.pyplot as plt \n",
    "from sklearn import linear_model\n",
    "import statsmodels.api as sm\n",
    "import statsmodels.formula.api as smf\n",
    "from statsmodels.stats.outliers_influence import variance_inflation_factor\n",
    "from statsmodels.stats.api import anova_lm\n",
    "\n",
    "\n",
    "# select data from 1970 to 2000\n",
    "df = pd.read_csv('pennworlddata.csv')\n",
    "df = df.loc[df['countrycode'].isin(['KOR','HKG','TWN','SGP'])]\n",
    "df.drop(columns = ['cor_exp','statcap','i_cig','i_xm','i_xr','i_outlier','i_irr'])\n",
    "df = df.loc[(df['year']>= 1970 ) & (df['year']<= 2000 ) ]\n",
    "\n",
    "#Calculate GDP per capita and capital stock per capita\n",
    "\n",
    "df['gdppc'] = df['rgdpo']/df['pop']\n",
    "df['cnpc'] = df['cn']/df['pop']\n",
    "\n",
    "\n",
    "hkg = df.loc[df['countrycode'] == \"HKG\"]\n",
    "kor = df.loc[df['countrycode'] == \"KOR\"]\n",
    "twn = df.loc[df['countrycode'] == \"TWN\"]\n",
    "sgp = df.loc[df['countrycode'] == \"SGP\"]\n",
    "\n",
    "x = df[['cnpc','ctfp','csh_x','hc']]\n",
    "y = df['gdppc']\n",
    "\n",
    "x = sm.add_constant(x)\n",
    "lrm = smf.ols(formula='gdppc ~ cnpc+csh_x+hc*ctfp',data=df).fit()\n",
    "print(lrm.summary())\n",
    "\n",
    "table1 = anova_lm(lrm)\n",
    "print(table1)"
   ]
  },
  {
   "cell_type": "markdown",
   "metadata": {
    "slideshow": {
     "slide_type": "slide"
    }
   },
   "source": [
    "1. According to the regression analysis above, it can be concluded that per capita gdp is positively correlated with Capital Stock per Captia, Share of export, and negatively correlated with Human Capital, TFP, and the value of R-squared is 0.974, indicating that the data fits the regression well.\n",
    "2. According to the variance analysis above, it can be concluded that per capita gdp is closely related to Share of export, TFP, Capital services levels, and we can get the following expression:\n",
    "GDPpercaptia = Bo + B1*TFP + B2*(TFPlevel) + B3*Export\n",
    "Next we will try to find the correlation between the independent variable and the predictor"
   ]
  },
  {
   "cell_type": "code",
   "execution_count": null,
   "metadata": {
    "slideshow": {
     "slide_type": "skip"
    }
   },
   "outputs": [],
   "source": [
    "country = df\n",
    "# Set the format of the scatterplots\n",
    "fig, axs = plt.subplots(3, 3, figsize = (12, 12))\n",
    "# Red represents Hong Kong, green represents Singapore, blue represents Taiwan, and orange represents Korea\n",
    "colors = {'HKG':'red','SGP':'green','TWN':'blue','KOR':'orange'}\n",
    "# shows the relationship between Capital Stock per Capita and GDPPC\n",
    "axs[0,0].scatter(country['gdppc'],country['cnpc'],c=country['countrycode'].map(colors))\n",
    "axs[0,0].set_title(\"Capital Stock per Captia vs GDPPC\")\n",
    "# shows the relationship between TFP and GDPPC\n",
    "axs[0,1].scatter(country['gdppc'],country['ctfp'],c=country['countrycode'].map(colors))\n",
    "axs[0,1].set_title(\"TFP vs GDPPC\")\n",
    "# shows the relationship between Share of export and GDPPC\n",
    "axs[1,1].scatter(country['gdppc'],country['csh_x'],c=country['countrycode'].map(colors))\n",
    "axs[1,1].set_title(\"Share of export  vs GDPPC\")\n",
    "# shows the relationship between Human Capital and GDPPC\n",
    "axs[1,0].scatter(country['gdppc'],country['hc'],c=country['countrycode'].map(colors))\n",
    "axs[1,0].set_title(\"Human Capital  vs GDPPC\")\n",
    "# shows the relationship between Capital services and GDPPC\n",
    "axs[2,0].scatter(country['gdppc'],country['ck'],c=country['countrycode'].map(colors))\n",
    "axs[2,0].set_title(\"Capital services levels  vs GDPPC\")\n",
    "# shows the relationship between Real consumption and GDPPC\n",
    "axs[2,1].scatter(country['gdppc'],country['rconna'],c=country['countrycode'].map(colors))\n",
    "axs[2,1].set_title(\"Real consumption vs GDPPC\")\n",
    "# shows the relationship between Welfare-relevant TFP levels and GDPPC\n",
    "axs[0,2].scatter(country['gdppc'],country['cwtfp'],c=country['countrycode'].map(colors))\n",
    "axs[0,2].set_title(\"Welfare-relevant TFP levels vs GDPPC\")\n",
    "# shows the relationship between Real internal rate of return and GDPPC\n",
    "axs[1,2].scatter(country['gdppc'],country['irr'],c=country['countrycode'].map(colors))\n",
    "axs[1,2].set_title(\"Real internal rate of return vs GDPPC\")\n",
    "# shows the relationship between Price level of CCON and GDPPC\n",
    "axs[2,2].scatter(country['gdppc'],country['pl_con'],c=country['countrycode'].map(colors))\n",
    "axs[2,2].set_title(\"Price level of CCON vs GDPPC\")"
   ]
  },
  {
   "cell_type": "code",
   "execution_count": null,
   "metadata": {
    "slideshow": {
     "slide_type": "slide"
    }
   },
   "outputs": [],
   "source": [
    "fig"
   ]
  },
  {
   "cell_type": "markdown",
   "metadata": {
    "slideshow": {
     "slide_type": "slide"
    }
   },
   "source": [
    "The scatterplots above indicate the correlation between the independent variable (GDP per capita) and different predictors. Among those predictors, GDP per capita has obvious correlations with Capital Stock per Capita, Capital services levels, Real consumption, Price level of CCON, while it has no obvious correlations with TFP, Share of export, Human Capital, Welfare-relevant TFP levels, Real internal rate of return.\n",
    "\n",
    "To find the similarities and differences between the four regions, we independently analyzed each country’s metrics."
   ]
  },
  {
   "cell_type": "markdown",
   "metadata": {
    "slideshow": {
     "slide_type": "slide"
    }
   },
   "source": [
    "Hong Kong"
   ]
  },
  {
   "cell_type": "code",
   "execution_count": null,
   "metadata": {
    "slideshow": {
     "slide_type": "slide"
    }
   },
   "outputs": [],
   "source": [
    "country = hkg\n",
    "# Set the format of the scatterplots and show Hong Kong's data only\n",
    "fig, axs = plt.subplots(3, 3, figsize = (12, 12))\n",
    "axs[0,0].scatter(country['gdppc'],country['cnpc'],c=country['countrycode'].map(colors))\n",
    "axs[0,0].set_title(\"Capital Stock per Captia vs GDPPC\")\n",
    "axs[0,1].scatter(country['gdppc'],country['ctfp'],c=country['countrycode'].map(colors))\n",
    "axs[0,1].set_title(\"TFP vs GDPPC\")\n",
    "axs[1,1].scatter(country['gdppc'],country['csh_x'],c=country['countrycode'].map(colors))\n",
    "axs[1,1].set_title(\"Share of export  vs GDPPC\")\n",
    "axs[1,0].scatter(country['gdppc'],country['hc'],c=country['countrycode'].map(colors))\n",
    "axs[1,0].set_title(\"Human Capital  vs GDPPC\")\n",
    "axs[2,0].scatter(country['gdppc'],country['ck'],c=country['countrycode'].map(colors))\n",
    "axs[2,0].set_title(\"Capital services levels  vs GDPPC\")\n",
    "axs[2,1].scatter(country['gdppc'],country['rconna'],c=country['countrycode'].map(colors))\n",
    "axs[2,1].set_title(\"Real consumption vs GDPPC\")\n",
    "axs[0,2].scatter(country['gdppc'],country['cwtfp'],c=country['countrycode'].map(colors))\n",
    "axs[0,2].set_title(\"Welfare-relevant TFP levels vs GDPPC\")\n",
    "axs[1,2].scatter(country['gdppc'],country['irr'],c=country['countrycode'].map(colors))\n",
    "axs[1,2].set_title(\"Real internal rate of return vs GDPPC\")\n",
    "axs[2,2].scatter(country['gdppc'],country['pl_con'],c=country['countrycode'].map(colors))\n",
    "axs[2,2].set_title(\"Price level of CCON vs GDPPC\")\n",
    "\n",
    "# regression analysis\n",
    "lrm = smf.ols(formula='gdppc ~ cnpc+csh_x+hc:ctfp',data=hkg).fit()\n",
    "print(lrm.summary())"
   ]
  },
  {
   "cell_type": "markdown",
   "metadata": {
    "slideshow": {
     "slide_type": "slide"
    }
   },
   "source": [
    "From the regression analysis and scatterplot above, it can be concluded that the per capita GDP in Hong Kong shows a relatively obvious positive correlation with Capital Stock per Capita, Share of export, Human Capital, Capital services levels, Price level, and Real consumption. The graphs of capital stock and capital services almost mirror each other, providing a relationship which looks exponential for the time period covered (1970-2000). It is apparent that during this period, the capital stock and services contributes to the growth of GDP per capita at an decreasing rate. If this trend holds, there is only a limited amount of extra growth that Hong Kong can receive from improvement in these areas.  Over time as human capital has become more and more developed, it has taken less growth to achieve the same results, indicating the importance and payouts of investing in human capital early. At the same time, there is a relatively obvious negative correlation between per capita GDP and real internal rate of return, indicating a lower expectation of investment return in future.\n",
    "The R-squared value in the regression analysis is 0.994, indicating that the fitting result is relatively accurate, and the correlation between the dependent variable and each predictor obtained by the regression analysis is basically consistent with the result obtained by the scatter plot.\n"
   ]
  },
  {
   "cell_type": "markdown",
   "metadata": {
    "slideshow": {
     "slide_type": "slide"
    }
   },
   "source": [
    "Taiwan"
   ]
  },
  {
   "cell_type": "code",
   "execution_count": null,
   "metadata": {
    "slideshow": {
     "slide_type": "slide"
    }
   },
   "outputs": [],
   "source": [
    "country = twn\n",
    "# Set the format of the scatterplots and show Taiwan's data only\n",
    "fig, axs = plt.subplots(3, 3, figsize = (12, 12))\n",
    "axs[0,0].scatter(country['gdppc'],country['cnpc'],c=country['countrycode'].map(colors))\n",
    "axs[0,0].set_title(\"Capital Stock per Captia vs GDPPC\")\n",
    "axs[0,1].scatter(country['gdppc'],country['ctfp'],c=country['countrycode'].map(colors))\n",
    "axs[0,1].set_title(\"TFP vs GDPPC\")\n",
    "axs[1,1].scatter(country['gdppc'],country['csh_x'],c=country['countrycode'].map(colors))\n",
    "axs[1,1].set_title(\"Share of export vs GDPPC\")\n",
    "axs[1,0].scatter(country['gdppc'],country['hc'],c=country['countrycode'].map(colors))\n",
    "axs[1,0].set_title(\"Human Capital vs GDPPC\")\n",
    "axs[2,0].scatter(country['gdppc'],country['ck'],c=country['countrycode'].map(colors))\n",
    "axs[2,0].set_title(\"Capital services levels vs GDPPC\")\n",
    "axs[2,1].scatter(country['gdppc'],country['rconna'],c=country['countrycode'].map(colors))\n",
    "axs[2,1].set_title(\"Real consumption vs GDPPC\")\n",
    "axs[0,2].scatter(country['gdppc'],country['cwtfp'],c=country['countrycode'].map(colors))\n",
    "axs[0,2].set_title(\"Welfare-relevant TFP levels vs GDPPC\")\n",
    "axs[1,2].scatter(country['gdppc'],country['irr'],c=country['countrycode'].map(colors))\n",
    "axs[1,2].set_title(\"Real internal rate of return vs GDPPC\")\n",
    "axs[2,2].scatter(country['gdppc'],country['pl_con'],c=country['countrycode'].map(colors))\n",
    "axs[2,2].set_title(\"Price level of CCON vs GDPPC\")\n",
    "\n",
    "# regression analysis\n",
    "lrm = smf.ols(formula='gdppc ~ cnpc:ck+csh_x+hc+ctfp',data=twn).fit()\n",
    "print(lrm.summary())"
   ]
  },
  {
   "cell_type": "markdown",
   "metadata": {
    "slideshow": {
     "slide_type": "slide"
    }
   },
   "source": [
    "From the regression analysis and scatterplot above, it can be concluded that there is a correlation between Taiwan's per capita GDP and  Capital Stock per capita, Share of export, Capital services levels, Real consumption. There is a relatively obvious positive correlation between the Price level of CCON, and with the rise of the Price level of CCON, the growth rate of GDP per capita begins to slow down. The correlation with TFP, Human Capital is weak. There is a relatively weak positive correlation between per capita GDP and Welfare-relevant TFP levels, and a relatively weak negative correlation with Real internal rate of return.\n",
    "Compared with Hong Kong, Taiwan maintains a higher capital service levels and lower share of export throughout the periods.\n",
    "The correlation between the dependent variable and each predictor obtained by the regression analysis is consistent with the results obtained by the scatter plot, and R-squared = 0.998 shows the accuracy of the fitting results.\n"
   ]
  },
  {
   "cell_type": "markdown",
   "metadata": {
    "slideshow": {
     "slide_type": "slide"
    }
   },
   "source": [
    "Singapore"
   ]
  },
  {
   "cell_type": "code",
   "execution_count": null,
   "metadata": {
    "slideshow": {
     "slide_type": "slide"
    }
   },
   "outputs": [],
   "source": [
    "country = sgp\n",
    "# Set the format of the scatterplots and show Singapore's data only\n",
    "fig, axs = plt.subplots(3, 3, figsize = (12, 12))\n",
    "axs[0,0].scatter(country['gdppc'],country['cnpc'],c=country['countrycode'].map(colors))\n",
    "axs[0,0].set_title(\"Capital Stock per Captia vs GDPPC\")\n",
    "axs[0,1].scatter(country['gdppc'],country['ctfp'],c=country['countrycode'].map(colors))\n",
    "axs[0,1].set_title(\"TFP vs GDPPC\")\n",
    "axs[1,1].scatter(country['gdppc'],country['csh_x'],c=country['countrycode'].map(colors))\n",
    "axs[1,1].set_title(\"Share of export vs GDPPC\")\n",
    "axs[1,0].scatter(country['gdppc'],country['hc'],c=country['countrycode'].map(colors))\n",
    "axs[1,0].set_title(\"Human Capital vs GDPPC\")\n",
    "axs[2,0].scatter(country['gdppc'],country['ck'],c=country['countrycode'].map(colors))\n",
    "axs[2,0].set_title(\"Capital services levels vs GDPPC\")\n",
    "axs[2,1].scatter(country['gdppc'],country['rconna'],c=country['countrycode'].map(colors))\n",
    "axs[2,1].set_title(\"Real consumption vs GDPPC\")\n",
    "axs[0,2].scatter(country['gdppc'],country['cwtfp'],c=country['countrycode'].map(colors))\n",
    "axs[0,2].set_title(\"Welfare-relevant TFP levels vs GDPPC\")\n",
    "axs[1,2].scatter(country['gdppc'],country['irr'],c=country['countrycode'].map(colors))\n",
    "axs[1,2].set_title(\"Real internal rate of return vs GDPPC\")\n",
    "axs[2,2].scatter(country['gdppc'],country['pl_con'],c=country['countrycode'].map(colors))\n",
    "axs[2,2].set_title(\"Price level of CCON vs GDPPC\")\n",
    "\n",
    "# regression analysis\n",
    "lrm = smf.ols(formula='gdppc ~ cnpc+hc+ctfp',data=sgp).fit()\n",
    "print(lrm.summary())"
   ]
  },
  {
   "cell_type": "markdown",
   "metadata": {
    "slideshow": {
     "slide_type": "slide"
    }
   },
   "source": [
    "Examining Singapore, the relationships here are quite different from Hong Kong and Taiwan, with each category not having any clear linear, exponential or logarithmic relationships. Singapore initially started on a similar track as Hong Kong and Taiwan but quickly stalled in their tracks, with an ending metrics that resembles Hong Kong. The total factor production and share of exports fluctuate significantly over time, notably with Singapore having a much larger export share than any other country in most time. From the scatter plot and regression analysis, it can be concluded that there is a certain correlation between Singapore's per capita GDP and Capital Stock per capita, Share of export, Capital services levels, Real consumption, and Price level of CCON, but it is not obvious and only reflects the overall correlation of trends. There is no correlation with other predictors.\n",
    "\n",
    "On the other hand, the correlation between the dependent variable and each predictor obtained from the regression analysis is basically consistent with the results obtained from the scatter plot. R-squared = 0.978 also shows that the fitting effect is relatively general. Singapore’s predictors that are strongly correlated with per capita gdp may require further analysis."
   ]
  },
  {
   "cell_type": "markdown",
   "metadata": {
    "slideshow": {
     "slide_type": "slide"
    }
   },
   "source": [
    "Korea"
   ]
  },
  {
   "cell_type": "code",
   "execution_count": null,
   "metadata": {
    "slideshow": {
     "slide_type": "slide"
    }
   },
   "outputs": [],
   "source": [
    "country = kor\n",
    "# Set the format of the scatterplots and show Korea's data only\n",
    "fig, axs = plt.subplots(3, 3, figsize = (12, 12))\n",
    "axs[0,0].scatter(country['gdppc'],country['cnpc'],c=country['countrycode'].map(colors))\n",
    "axs[0,0].set_title(\"Capital Stock per Captia vs GDPPC\")\n",
    "axs[0,1].scatter(country['gdppc'],country['ctfp'],c=country['countrycode'].map(colors))\n",
    "axs[0,1].set_title(\"TFP vs GDPPC\")\n",
    "axs[1,1].scatter(country['gdppc'],country['csh_x'],c=country['countrycode'].map(colors))\n",
    "axs[1,1].set_title(\"Share of export vs GDPPC\")\n",
    "axs[1,0].scatter(country['gdppc'],country['hc'],c=country['countrycode'].map(colors))\n",
    "axs[1,0].set_title(\"Human Capital vs GDPPC\")\n",
    "axs[2,0].scatter(country['gdppc'],country['ck'],c=country['countrycode'].map(colors))\n",
    "axs[2,0].set_title(\"Capital services levels vs GDPPC\")\n",
    "axs[2,1].scatter(country['gdppc'],country['rconna'],c=country['countrycode'].map(colors))\n",
    "axs[2,1].set_title(\"Real consumption vs GDPPC\")\n",
    "axs[0,2].scatter(country['gdppc'],country['cwtfp'],c=country['countrycode'].map(colors))\n",
    "axs[0,2].set_title(\"Welfare-relevant TFP levels vs GDPPC\")\n",
    "axs[1,2].scatter(country['gdppc'],country['irr'],c=country['countrycode'].map(colors))\n",
    "axs[1,2].set_title(\"Real internal rate of return vs GDPPC\")\n",
    "axs[2,2].scatter(country['gdppc'],country['pl_con'],c=country['countrycode'].map(colors))\n",
    "axs[2,2].set_title(\"Price level of CCON vs GDPPC\")\n",
    "\n",
    "# regression analysis\n",
    "lrm = smf.ols(formula='gdppc ~ cnpc+hc+ctfp+ck',data=kor).fit()\n",
    "print(lrm.summary())"
   ]
  },
  {
   "cell_type": "markdown",
   "metadata": {
    "slideshow": {
     "slide_type": "slide"
    }
   },
   "source": [
    "From the scatter plot, it can be concluded that Korea’s per capita GDP has a relatively obvious correlation with Capital Stock per Capita, TFP, Share of export, Capital services levels, Real consumption, and Price level of CCON, while it’s worth noticing that there are certain noise data regarding the correlation with Price level of CCON and further analysis is needed to determine the relationship. It can be concluded from the regression analysis that the correlation between the dependent variable and each predictor is consistent with the results obtained from the scatter plot, and R-squared = 0.995 indicates that the fitting effect is relatively accurate."
   ]
  },
  {
   "cell_type": "markdown",
   "metadata": {
    "slideshow": {
     "slide_type": "slide"
    }
   },
   "source": [
    "To sum up,while each of the Asian tigers have become developed countries, their paths towards development are similar but yet different at the same time. Singapore seems to be the only real outlier in the development of almost all of the metrics examined here, and the only country to stall and even had its GDP per capita reduced during this period. While it had a very different growth path, by 2000, Singapore ahieved the second highest GDP per capita of the Asian tigers. When examining Hong Kong, the most successful one of the Asian tigers at this point, it is interesting to see how there is no clear dominance in any metric besides capital stock. However, it seems their performance in capital stock had a great relationship with GDP. The examination of Korea makes this rule more authentic as capital stock is one of the few categories in which they lag behind. It seems as though their advancement in human capital and capital services is severely lagged by capital stock."
   ]
  }
 ],
 "metadata": {
  "celltoolbar": "Slideshow",
  "kernelspec": {
   "display_name": "Python 3 (ipykernel)",
   "language": "python",
   "name": "python3"
  },
  "language_info": {
   "codemirror_mode": {
    "name": "ipython",
    "version": 3
   },
   "file_extension": ".py",
   "mimetype": "text/x-python",
   "name": "python",
   "nbconvert_exporter": "python",
   "pygments_lexer": "ipython3",
   "version": "3.9.13"
  },
  "vscode": {
   "interpreter": {
    "hash": "b616612d480ccae0c1f98acf2f218ff2e62b34e556936f4faf2b5941f7f5d195"
   }
  }
 },
 "nbformat": 4,
 "nbformat_minor": 4
}
